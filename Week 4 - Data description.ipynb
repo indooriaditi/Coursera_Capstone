{
 "cells": [
  {
   "cell_type": "markdown",
   "id": "opposed-tomorrow",
   "metadata": {},
   "source": [
    "# Data description"
   ]
  },
  {
   "cell_type": "markdown",
   "id": "shared-celebrity",
   "metadata": {},
   "source": [
    "Data Link: https://en.wikipedia.org/wiki/List_of_postal_codes_of_Canada:_M\n",
    "\n",
    "We will use Scarborough dataset which we scraped from wikipedia in Week 3. Dataset consists of latitude and longitude values, zip codes."
   ]
  },
  {
   "cell_type": "markdown",
   "id": "typical-reading",
   "metadata": {},
   "source": [
    "# Foursquare API data"
   ]
  },
  {
   "cell_type": "markdown",
   "id": "sticky-election",
   "metadata": {},
   "source": [
    "We will need data about different venues in different neighborhoods of a specific borough. In order to obtain that information we will use \"Foursquare\" locational information. Foursquare is a location data provider with information about all types of venues and events within an area of interest. Such information includes venue names, locations, menus and even photos. Hence, the foursquare location platform will be used as the sole data source since all the stated required information can be obtained through the API.\n",
    "\n",
    "After finding the list of neighborhoods, we connect to the Foursquare API to gather information about venues inside each and every neighborhood. For each neighborhood, we choose the radius to be 100 meters.\n",
    "\n",
    "The data retrieved from Foursquare contains information of venues within a specified distance of the longitude and latitude of the postcodes. The information obtained per venue is as follows:\n",
    "\n",
    "1. Neighborhood\n",
    "2. Neighborhood Latitude\n",
    "3. Neighborhood Longitude\n",
    "4. Venue\n",
    "5. Name of the venue e.g. the name of a store or restaurant\n",
    "6. Venue Latitude\n",
    "7. Venue Longitude\n",
    "8. Venue Category"
   ]
  }
 ],
 "metadata": {
  "kernelspec": {
   "display_name": "Python 3",
   "language": "python",
   "name": "python3"
  },
  "language_info": {
   "codemirror_mode": {
    "name": "ipython",
    "version": 3
   },
   "file_extension": ".py",
   "mimetype": "text/x-python",
   "name": "python",
   "nbconvert_exporter": "python",
   "pygments_lexer": "ipython3",
   "version": "3.8.3"
  }
 },
 "nbformat": 4,
 "nbformat_minor": 5
}
