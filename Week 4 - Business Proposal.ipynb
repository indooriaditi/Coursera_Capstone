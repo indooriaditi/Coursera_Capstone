{
 "cells": [
  {
   "cell_type": "markdown",
   "id": "intensive-workstation",
   "metadata": {},
   "source": [
    "# Business Proposal"
   ]
  },
  {
   "cell_type": "markdown",
   "id": "offensive-russell",
   "metadata": {},
   "source": [
    "The purpose of this Project is to help people explore better facilities around their neighborhood. It will help people in making smarter and more efficient decisions on selecting good neighborhoods out of the other neighborhoods in Scarborough, Toronto.\n",
    "\n",
    "A lot of people are migrating to various states of Canada and need lots of research regarding good housing prices and reputed schools for their children. This project is for those people who are looking for better neighborhoods, for ease of accessing public places like Cafes, Schools, Super markets, medical shops, grocery shops, malls, theatres, hospitals etc.\n",
    "\n",
    "This Project aims to create an analysis of features for people migrating to Scarborough to find the best neighborhood as a comparative analysis between neighborhoods. The features include median housing price and best school according to ratings, crime rates of that particular area, road connectivity, weather conditions, good management for emergency, water resources both freash and waste water and recreational facilities.\n",
    "\n",
    "It will help people gain awareness of the area and neighborhood before moving to a new city, state, country or place for their work or to start a new fresh life."
   ]
  },
  {
   "cell_type": "markdown",
   "id": "sporting-pontiac",
   "metadata": {},
   "source": [
    "The major purpose of this project, is to suggest the best neighborhood in a new city for the people shifting there. Social presence in society in terms of like minded people, connectivity to the airport, bus stand, city center, markets and other daily things needed nearby.\n",
    "\n",
    "1. Sorted list of house in terms of housing prices in a ascending or descending order\n",
    "2. Sorted list of schools in terms of location, fees, rating and reviews"
   ]
  },
  {
   "cell_type": "markdown",
   "id": "potential-hampton",
   "metadata": {},
   "source": [
    "# Location"
   ]
  },
  {
   "cell_type": "markdown",
   "id": "utility-greek",
   "metadata": {},
   "source": [
    "Scarborough is a popular destination for new immigrants in Canada to reside. As a result, it is one of the most diverse and multicultural areas in the Greater Toronto Area, being home to various religious groups and places of worship. Although immigration has become a hot topic over the past few years with more governments seeking more restrictions on immigrants and refugees, the general trend of immigration into Canada has been on the rise."
   ]
  },
  {
   "cell_type": "markdown",
   "id": "contemporary-covering",
   "metadata": {},
   "source": [
    "# Foursquare API"
   ]
  },
  {
   "cell_type": "markdown",
   "id": "undefined-thickness",
   "metadata": {},
   "source": [
    "This project will use the Four-square API as its prime data gathering source as it has a database of millions of places, especially their places API which provides the ability to perform location search, location sharing and find details about a business."
   ]
  },
  {
   "cell_type": "markdown",
   "id": "colored-version",
   "metadata": {},
   "source": [
    "# Workflow"
   ]
  },
  {
   "cell_type": "markdown",
   "id": "absolute-calibration",
   "metadata": {},
   "source": [
    "Using credentials of Foursquare API, features of near-by places of the neighborhoods will be mined. Due to http request limitations the number of places per neighborhood parameter will be reasonably set to 100 and the radius parameter will be set to 500."
   ]
  },
  {
   "cell_type": "markdown",
   "id": "lasting-exercise",
   "metadata": {},
   "source": [
    "# Clustering"
   ]
  },
  {
   "cell_type": "markdown",
   "id": "precise-attribute",
   "metadata": {},
   "source": [
    "To compare the similarities of two cities, it's a good option to explore neighborhoods, segment them, and group them into clusters to find similar neighborhoods in a big city like New York and Toronto. To be able to do that, we need to cluster data which is a form of unsupervised machine learning: k-means clustering algorithm"
   ]
  },
  {
   "cell_type": "markdown",
   "id": "future-cream",
   "metadata": {},
   "source": [
    "# Libraries used"
   ]
  },
  {
   "cell_type": "markdown",
   "id": "aboriginal-queens",
   "metadata": {},
   "source": [
    "Pandas: For creating and manipulating dataframes.\n",
    "\n",
    "Folium: Python visualization library will be used to visualize the neighborhoods cluster distribution using interactive leaflet map.\n",
    "\n",
    "Scikit Learn: For importing k-means clustering.\n",
    "\n",
    "JSON: Library to handle JSON files.\n",
    "\n",
    "XML: To separate data from presentation. XML stores data in plain text format.\n",
    "\n",
    "Geocoder: To retrieve Location Data.\n",
    "\n",
    "Beautiful Soup and Requests: To scrape data and to handle http requests.\n",
    "\n",
    "Matplotlib: Python Plotting Module."
   ]
  },
  {
   "cell_type": "code",
   "execution_count": null,
   "id": "rapid-farmer",
   "metadata": {},
   "outputs": [],
   "source": []
  }
 ],
 "metadata": {
  "kernelspec": {
   "display_name": "Python 3",
   "language": "python",
   "name": "python3"
  },
  "language_info": {
   "codemirror_mode": {
    "name": "ipython",
    "version": 3
   },
   "file_extension": ".py",
   "mimetype": "text/x-python",
   "name": "python",
   "nbconvert_exporter": "python",
   "pygments_lexer": "ipython3",
   "version": "3.8.3"
  }
 },
 "nbformat": 4,
 "nbformat_minor": 5
}
