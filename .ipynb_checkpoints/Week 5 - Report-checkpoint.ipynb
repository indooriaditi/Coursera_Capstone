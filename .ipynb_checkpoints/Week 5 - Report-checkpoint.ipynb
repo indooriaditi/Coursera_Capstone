{
 "cells": [
  {
   "cell_type": "markdown",
   "id": "reserved-eagle",
   "metadata": {},
   "source": [
    "# The Battle of Neighborhoods"
   ]
  },
  {
   "cell_type": "markdown",
   "id": "suffering-spice",
   "metadata": {},
   "source": [
    "## Finding the best neighborhood in Scarborough, Toronto"
   ]
  },
  {
   "cell_type": "markdown",
   "id": "nervous-livestock",
   "metadata": {},
   "source": [
    "### Introduction"
   ]
  },
  {
   "cell_type": "markdown",
   "id": "patent-henry",
   "metadata": {},
   "source": [
    "The purpose of this Project is to help people explore better facilities around their neighborhood. It will help people in making smarter and more efficient decisions on selecting good neighborhoods out of the other neighborhoods in Scarborough, Toronto. A lot of people are migrating to various states of Canada and need lots of research regarding good housing prices and reputed schools for their children. This project is for those people who are looking for better neighborhoods, for ease of accessing public places like Cafes, Schools, Super markets, medical shops, grocery shops, malls, theatres, hospitals etc.\n",
    "\n",
    "This Project aims to create an analysis of features for people migrating to Scarborough to find the best neighborhood as a \n",
    "comparative analysis between neighborhoods. The features include median housing price and best school according to ratings, \n",
    "crime rates of that particular area, road connectivity, weather conditions, good management for emergency, water resources both \n",
    "freash and waste water and recreational facilities.\n",
    "\n",
    "It will help people gain awareness of the area and neighborhood before moving to a new city, state, country or place for their work or to start a new fresh life.\n",
    "\n",
    "The major purpose of this project, is to suggest the best neighborhood in a new city for the people shifting there. Social presence in society in terms of like minded people, connectivity to the airport, bus stand, city center, markets and other daily things needed nearby.\n",
    "\n",
    "1. Sorted list of house in terms of housing prices in a ascending or descending order\n",
    "2. Sorted list of schools in terms of location, fees, rating and reviews"
   ]
  },
  {
   "cell_type": "markdown",
   "id": "closed-stuart",
   "metadata": {},
   "source": [
    "### Data description"
   ]
  },
  {
   "cell_type": "markdown",
   "id": "registered-strand",
   "metadata": {},
   "source": [
    "Data Link: https://en.wikipedia.org/wiki/List_of_postal_codes_of_Canada:_M\n",
    "\n",
    "will use Scarborough dataset which we scraped from wikipedia in Week 3. Dataset consists of latitude and\n",
    "longitude values, zip codes."
   ]
  },
  {
   "cell_type": "markdown",
   "id": "finished-barbados",
   "metadata": {},
   "source": [
    "### Foursquare API data"
   ]
  },
  {
   "cell_type": "markdown",
   "id": "pharmaceutical-offering",
   "metadata": {},
   "source": [
    "We will need data about different venues in different neighborhoods of a specific borough. In order to obtain that information we will use \"Foursquare\" locational information. Foursquare is a location data provider with information about all types of venues and events within an area of interest. Such information includes venue names, locations, menus and even photos. Hence, the foursquare location platform will be used as the sole data source since all the stated required information can be obtained through the API.\n",
    "\n",
    "After finding the list of neighborhoods, we connect to the Foursquare API to gather information about venues inside each and every neighborhood. For each neighborhood, we choose the radius to be 100 meters.\n",
    "\n",
    "The data retrieved from Foursquare contains information of venues within a specified distance of the longitude and latitude of the postcodes. The information obtained per venue is as follows:\n",
    "\n",
    "1. Neighborhood\n",
    "2. Neighborhood Latitude\n",
    "3. Neighborhood Longitude\n",
    "4. Venue\n",
    "5. Name of the venue e.g. the name of a store or restaurant\n",
    "6. Venue Latitude\n",
    "7. Venue Longitude\n",
    "8. Venue Category"
   ]
  },
  {
   "cell_type": "markdown",
   "id": "quarterly-seafood",
   "metadata": {},
   "source": [
    "### Methodology"
   ]
  },
  {
   "cell_type": "markdown",
   "id": "healthy-regard",
   "metadata": {},
   "source": [
    "#### Clustering"
   ]
  },
  {
   "cell_type": "markdown",
   "id": "living-asian",
   "metadata": {},
   "source": [
    "To compare the similarities of two cities, it's a good option to explore neighborhoods, segment them, and group them into clusters to find similar neighborhoods in a big city like New York and Toronto. To be able to do that, we need to cluster data which is a form of unsupervised machine \n",
    "learning: k-means clustering algorithm"
   ]
  },
  {
   "cell_type": "markdown",
   "id": "empirical-titanium",
   "metadata": {},
   "source": [
    "#### Workflow"
   ]
  },
  {
   "cell_type": "markdown",
   "id": "ambient-temperature",
   "metadata": {},
   "source": [
    "Using credentials of Foursquare API, features of near-by places of the neighborhoods will be mined. Due to http request limitations the number of places per neighborhood parameter will be reasonably set to 100 and the radius parameter will be set to 500."
   ]
  },
  {
   "cell_type": "markdown",
   "id": "supreme-gabriel",
   "metadata": {},
   "source": [
    "#### Libraries used"
   ]
  },
  {
   "cell_type": "markdown",
   "id": "agricultural-approval",
   "metadata": {},
   "source": [
    "Pandas: For creating and manipulating dataframes.\n",
    "\n",
    "Folium: Python visualization library will be used to visualize the neighborhoods cluster distribution \n",
    "using interactive leaflet map.\n",
    "\n",
    "Scikit Learn: For importing k-means clustering.\n",
    "\n",
    "JSON: Library to handle JSON files.\n",
    "\n",
    "XML: To separate data from presentation. XML stores data in plain text format.\n",
    "\n",
    "Geocoder: To retrieve Location Data.\n",
    "\n",
    "Beautiful Soup and Requests: To scrape data and to handle http requests.\n",
    "\n",
    "Matplotlib: Python Plotting Module."
   ]
  },
  {
   "cell_type": "markdown",
   "id": "pending-argument",
   "metadata": {},
   "source": [
    "### Conclusion"
   ]
  },
  {
   "cell_type": "markdown",
   "id": "characteristic-canyon",
   "metadata": {},
   "source": [
    "In this project, using k-means cluster algorithm the neighborhood has been divided into 10 clusters for 103 different latitudes and logitudes from the dataset, which have very-similar neighborhoods around them. The plots above represent results of a particular neighborhood based on average house prices and school rating"
   ]
  }
 ],
 "metadata": {
  "kernelspec": {
   "display_name": "Python 3",
   "language": "python",
   "name": "python3"
  },
  "language_info": {
   "codemirror_mode": {
    "name": "ipython",
    "version": 3
   },
   "file_extension": ".py",
   "mimetype": "text/x-python",
   "name": "python",
   "nbconvert_exporter": "python",
   "pygments_lexer": "ipython3",
   "version": "3.8.3"
  }
 },
 "nbformat": 4,
 "nbformat_minor": 5
}
